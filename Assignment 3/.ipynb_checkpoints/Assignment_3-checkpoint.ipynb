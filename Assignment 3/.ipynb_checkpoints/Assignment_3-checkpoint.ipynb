{
 "cells": [
  {
   "cell_type": "markdown",
   "metadata": {},
   "source": [
    "<h1><center>CSEN1022:Assignment 3</center></h1>\n",
    "<h3><center>Winter 2021</center></h3>\n",
    "<hr style=\"border:2px solid black\"> </hr>"
   ]
  },
  {
   "cell_type": "markdown",
   "metadata": {},
   "source": [
    "## <u> Please don't forget to fill in this data </u>\n",
    "**Member 1**\n",
    "\n",
    "Name: Mohamed Ahmed Helmy\n",
    "\n",
    "GUC-ID: 43-9565\n",
    "\n",
    "Elective Tutorial No.: T-02\n",
    "\n",
    "**Member 2**\n",
    "\n",
    "Name: Omar Abdelhamid Ismaeil Youssef Altobgy\n",
    "\n",
    "GUC-ID: 43-12268\n",
    "\n",
    "Elective Tutorial No.: T-02\n",
    "\n",
    "<hr style=\"border:2px solid black\"> </hr>"
   ]
  },
  {
   "cell_type": "markdown",
   "metadata": {},
   "source": [
    "## Imports (Don't Edit)"
   ]
  },
  {
   "cell_type": "code",
   "execution_count": 2,
   "metadata": {},
   "outputs": [],
   "source": [
    "# ONLY USE THESE IMPORTS.\n",
    "# PLEASE DON'T EDIT THIS CELL.\n",
    "import numpy as np\n",
    "import matplotlib.pyplot as plt\n",
    "%matplotlib inline"
   ]
  },
  {
   "cell_type": "markdown",
   "metadata": {},
   "source": [
    "## Read Data"
   ]
  },
  {
   "cell_type": "code",
   "execution_count": 3,
   "metadata": {},
   "outputs": [],
   "source": [
    "# X_train, X_test\n",
    "# THE image categories are different.\n",
    "\n",
    "# reading train images of each class\n",
    "train_airplane = np.array([plt.imread('Data/train/airplane/'+str(i)+'.jpg').astype('int64').reshape(-1) for i in range (0,5000)])\n",
    "train_bird = np.array([plt.imread('Data/train/bird/'+str(i)+'.jpg').astype('int64').reshape(-1) for i in range (0,5000)])\n",
    "train_truck = np.array([plt.imread('Data/train/truck/'+str(i)+'.jpg').astype('int64').reshape(-1) for i in range (0,5000)])\n",
    "\n",
    "# reading test images of each class\n",
    "test_airplane = np.array([plt.imread('Data/test/airplane/'+str(i)+'.jpg').astype('int64').reshape(-1) for i in range (0,1000)])\n",
    "test_bird = np.array([plt.imread('Data/test/bird/'+str(i)+'.jpg').astype('int64').reshape(-1) for i in range (0,1000)])\n",
    "test_truck = np.array([plt.imread('Data/test/truck/'+str(i)+'.jpg').astype('int64').reshape(-1) for i in range (0,1000)])\n",
    "\n",
    "X_train = np.vstack([train_airplane, train_bird, train_truck])"
   ]
  },
  {
   "cell_type": "markdown",
   "metadata": {},
   "source": [
    "<hr style=\"border:2px solid black\"> </hr>\n",
    "\n",
    "# Perform K means clustering for all 3 classes (Training Data).\n",
    "### Return (memberships, centroids, dbi) --> (vector, matrix, scalar value)."
   ]
  },
  {
   "cell_type": "code",
   "execution_count": 4,
   "metadata": {},
   "outputs": [],
   "source": [
    "###\n",
    "all_memberships = []\n",
    "all_centroids = []\n",
    "all_dbi = []\n",
    "\n",
    "for k in range(0, 10):\n",
    "\n",
    "    # picking 3 random centroids\n",
    "    random_indices = np.random.choice(15000, 3, replace=False)\n",
    "    random_centroids = np.zeros((3, 3072), dtype=np.int64)\n",
    "    random_centroids[0] = X_train[random_indices[0]]\n",
    "    random_centroids[1] = X_train[random_indices[1]]\n",
    "    random_centroids[2] = X_train[random_indices[2]]\n",
    "\n",
    "    membership = []\n",
    "    euclidean0 = []\n",
    "    euclidean1 = []\n",
    "    euclidean2 = []\n",
    "\n",
    "    while True:\n",
    "\n",
    "        membership = []\n",
    "        euclidean0 = []\n",
    "        euclidean1 = []\n",
    "        euclidean2 = []\n",
    "\n",
    "        for i in range(0, 15000):\n",
    "            distances = []\n",
    "            distance0 = np.sqrt(np.sum(np.square(X_train[i] - random_centroids[0])))\n",
    "            distance1 = np.sqrt(np.sum(np.square(X_train[i] - random_centroids[1])))\n",
    "            distance2 = np.sqrt(np.sum(np.square(X_train[i] - random_centroids[2])))\n",
    "            distances += [distance0] + [distance1] + [distance2]\n",
    "\n",
    "            smallest_distance_index = np.argmin(np.array(distances))\n",
    "            membership += [smallest_distance_index]\n",
    "\n",
    "            if smallest_distance_index == 0:\n",
    "                euclidean0 += [distance0]\n",
    "            elif smallest_distance_index == 1:\n",
    "                euclidean1 += [distance1]\n",
    "            else:\n",
    "                euclidean2 += [distance2]\n",
    "        \n",
    "        indices0 = np.where(np.array(membership) == 0)[0]\n",
    "        indices1 = np.where(np.array(membership) == 1)[0]\n",
    "        indices2 = np.where(np.array(membership) == 2)[0]\n",
    "\n",
    "        mean0 = np.mean(X_train[indices0], axis=0).astype('int64')\n",
    "        mean1 = np.mean(X_train[indices1], axis=0).astype('int64')\n",
    "        mean2 = np.mean(X_train[indices2], axis=0).astype('int64')\n",
    "\n",
    "        if (np.array_equal(random_centroids[0], mean0) and np.array_equal(random_centroids[1], mean1) and np.array_equal(random_centroids[2], mean2)):\n",
    "            break\n",
    "\n",
    "        random_centroids[0] = mean0\n",
    "        random_centroids[1] = mean1\n",
    "        random_centroids[2] = mean2\n",
    "    \n",
    "    s0 = sum(euclidean0) / len(euclidean0)\n",
    "    s1 = sum(euclidean1) / len(euclidean1)\n",
    "    s2 = sum(euclidean2) / len(euclidean2)\n",
    "\n",
    "    m01 = np.sqrt(np.sum(np.square(random_centroids[0] - random_centroids[1])))\n",
    "    m02 = np.sqrt(np.sum(np.square(random_centroids[0] - random_centroids[2])))\n",
    "    m12 = np.sqrt(np.sum(np.square(random_centroids[1] - random_centroids[2])))\n",
    "\n",
    "    r = [((s0+s1)/m01), ((s0+s2)/m02), ((s1+s2)/m12)]\n",
    "    dbi = r[np.argmax(np.array(r))]\n",
    "\n",
    "    all_memberships += [membership]\n",
    "    all_centroids += [random_centroids]\n",
    "    all_dbi += [dbi]\n",
    "###\n",
    "\n",
    "# return (memberships, centroids, dbi)"
   ]
  },
  {
   "cell_type": "markdown",
   "metadata": {},
   "source": [
    "<hr style=\"border:2px solid black\"> </hr>\n",
    "\n",
    "# Repeat the previous process 10 times. \n",
    "### Pick the membership vector and the centroids matrix corresponding to the best dbi.\n",
    "##### Make sure you return max_counts and confusion_matrix.\n",
    "(keep history in whatever datastructure you like)."
   ]
  },
  {
   "cell_type": "code",
   "execution_count": 6,
   "metadata": {},
   "outputs": [],
   "source": [
    "#best_membership_matrix = \n",
    "#best_centroids = \n",
    "#best_dbi = \n",
    "\n",
    "###\n",
    "minimum_dbi_index = np.argmin(np.array(all_dbi))\n",
    "minimum_membership = all_memberships[minimum_dbi_index]\n",
    "minimum_centroids = all_centroids[minimum_dbi_index]\n",
    "\n",
    "max_counts = []\n",
    "\n",
    "airplane_counts = []\n",
    "airplane_counts += [np.where(np.array(membership[0:5000]) == 0)[0].size]\n",
    "airplane_counts += [np.where(np.array(membership[0:5000]) == 1)[0].size]\n",
    "airplane_counts += [np.where(np.array(membership[0:5000]) == 2)[0].size]\n",
    "\n",
    "airplane_cluster = np.argmax(np.array(airplane_counts))\n",
    "max_counts += [airplane_counts[airplane_cluster]]\n",
    "\n",
    "bird_counts = []\n",
    "bird_counts += [np.where(np.array(membership[5000:10000]) == 0)[0].size]\n",
    "bird_counts += [np.where(np.array(membership[5000:10000]) == 1)[0].size]\n",
    "bird_counts += [np.where(np.array(membership[5000:10000]) == 2)[0].size]\n",
    "\n",
    "bird_cluster = np.argmax(np.array(bird_counts))\n",
    "max_counts += [bird_counts[bird_cluster]]\n",
    "\n",
    "truck_counts = []\n",
    "truck_counts += [np.where(np.array(membership[10000:15000]) == 0)[0].size]\n",
    "truck_counts += [np.where(np.array(membership[10000:15000]) == 1)[0].size]\n",
    "truck_counts += [np.where(np.array(membership[10000:15000]) == 2)[0].size]\n",
    "\n",
    "truck_cluster = np.argmax(np.array(truck_counts))\n",
    "max_counts += [truck_counts[truck_cluster]]\n",
    "\n",
    "#~~~~~~~~~~~~~~~~~~~~~~~~~~~~~~~~~~~~~~~~~~~~~~~~~~~~~~~~~~~~~~~~~~~~~~~~~~~~~~~~~~~~~~~~~~~~~~~~~~~~~~~~~~~~~~~~~~~~~~~~~~~~~~~~~~~~~\n",
    "# airplane testing\n",
    "\n",
    "prediction_first1000 = np.zeros((1000, 3), dtype=int)\n",
    "\n",
    "for i in range(0, 1000):\n",
    "    distances = []\n",
    "    distance_airplane = np.sqrt(np.sum(np.square(test_airplane[i] - minimum_centroids[airplane_cluster])))\n",
    "    distance_bird = np.sqrt(np.sum(np.square(test_airplane[i] - minimum_centroids[bird_cluster])))\n",
    "    distance_truck = np.sqrt(np.sum(np.square(test_airplane[i] - minimum_centroids[truck_cluster])))\n",
    "    distances += [distance_airplane] + [distance_bird] + [distance_truck]\n",
    "\n",
    "    smallest_distance_index = np.argmin(np.array(distances))\n",
    "    prediction_first1000[i, smallest_distance_index] = 1\n",
    "\n",
    "confusion_one = np.sum(prediction_first1000, axis=0)\n",
    "\n",
    "#~~~~~~~~~~~~~~~~~~~~~~~~~~~~~~~~~~~~~~~~~~~~~~~~~~~~~~~~~~~~~~~~~~~~~~~~~~~~~~~~~~~~~~~~~~~~~~~~~~~~~~~~~~~~~~~~~~~~~~~~~~~~~~~~~~~~~\n",
    "# bird testing\n",
    "\n",
    "prediction_second1000 = np.zeros((1000, 3), dtype=int)\n",
    "\n",
    "for i in range(0, 1000):\n",
    "    distances = []\n",
    "    distance_airplane = np.sqrt(np.sum(np.square(test_bird[i] - minimum_centroids[airplane_cluster])))\n",
    "    distance_bird = np.sqrt(np.sum(np.square(test_bird[i] - minimum_centroids[bird_cluster])))\n",
    "    distance_truck = np.sqrt(np.sum(np.square(test_bird[i] - minimum_centroids[truck_cluster])))\n",
    "    distances += [distance_airplane] + [distance_bird] + [distance_truck]\n",
    "\n",
    "    smallest_distance_index = np.argmin(np.array(distances))\n",
    "    prediction_second1000[i, smallest_distance_index] = 1\n",
    "\n",
    "confusion_two = np.sum(prediction_second1000, axis=0)\n",
    "\n",
    "#~~~~~~~~~~~~~~~~~~~~~~~~~~~~~~~~~~~~~~~~~~~~~~~~~~~~~~~~~~~~~~~~~~~~~~~~~~~~~~~~~~~~~~~~~~~~~~~~~~~~~~~~~~~~~~~~~~~~~~~~~~~~~~~~~~~~~\n",
    "# truck testing\n",
    "\n",
    "prediction_third1000 = np.zeros((1000, 3), dtype=int)\n",
    "\n",
    "for i in range(0, 1000):\n",
    "    distances = []\n",
    "    distance_airplane = np.sqrt(np.sum(np.square(test_truck[i] - minimum_centroids[airplane_cluster])))\n",
    "    distance_bird = np.sqrt(np.sum(np.square(test_truck[i] - minimum_centroids[bird_cluster])))\n",
    "    distance_truck = np.sqrt(np.sum(np.square(test_truck[i] - minimum_centroids[truck_cluster])))\n",
    "    distances += [distance_airplane] + [distance_bird] + [distance_truck]\n",
    "\n",
    "    smallest_distance_index = np.argmin(np.array(distances))\n",
    "    prediction_third1000[i, smallest_distance_index] = 1\n",
    "\n",
    "confusion_three = np.sum(prediction_third1000, axis=0)\n",
    "\n",
    "#~~~~~~~~~~~~~~~~~~~~~~~~~~~~~~~~~~~~~~~~~~~~~~~~~~~~~~~~~~~~~~~~~~~~~~~~~~~~~~~~~~~~~~~~~~~~~~~~~~~~~~~~~~~~~~~~~~~~~~~~~~~~~~~~~~~~~\n",
    "\n",
    "confusion_matrix = np.vstack([confusion_one, confusion_two, confusion_three])\n",
    "###\n",
    "\n",
    "#max_counts = \n",
    "#confusion_matrix="
   ]
  },
  {
   "cell_type": "markdown",
   "metadata": {},
   "source": [
    "<hr style=\"border:2px solid black\"> </hr>\n",
    "\n",
    "## Don't Edit the Following Cells, Just Run & Save them."
   ]
  },
  {
   "cell_type": "code",
   "execution_count": 7,
   "metadata": {},
   "outputs": [
    {
     "data": {
      "text/plain": [
       "Text(0.5, 1.0, 'Best Counts')"
      ]
     },
     "execution_count": 7,
     "metadata": {},
     "output_type": "execute_result"
    },
    {
     "data": {
      "image/png": "[encoded data removed]",
      "text/plain": [
       "<Figure size 720x432 with 1 Axes>"
      ]
     },
     "metadata": {
      "needs_background": "light"
     },
     "output_type": "display_data"
    }
   ],
   "source": [
    "plt.figure(figsize=(10,6))\n",
    "plt.plot(['Airplane','Bird','Truck'],max_counts,'-o')\n",
    "plt.title('Best Counts')"
   ]
  },
  {
   "cell_type": "code",
   "execution_count": 8,
   "metadata": {},
   "outputs": [
    {
     "data": {
      "image/png": "[encoded data removed]",
      "text/plain": [
       "<Figure size 360x360 with 1 Axes>"
      ]
     },
     "metadata": {
      "needs_background": "light"
     },
     "output_type": "display_data"
    }
   ],
   "source": [
    "plt.rc('figure', figsize=[5,5])\n",
    "plt.matshow(confusion_matrix,cmap=\"Blues\")\n",
    "for i in range(0,confusion_matrix.shape[0]):\n",
    "    for j in range(0,confusion_matrix.shape[1]):\n",
    "        plt.annotate(confusion_matrix[i,j],(j,i))"
   ]
  },
  {
   "cell_type": "code",
   "execution_count": null,
   "metadata": {},
   "outputs": [],
   "source": []
  }
 ],
 "metadata": {
  "interpreter": {
   "hash": "31f2aee4e71d21fbe5cf8b01ff0e069b9275f58929596ceb00d14d90e3e16cd6"
  },
  "kernelspec": {
   "display_name": "Python 3",
   "language": "python",
   "name": "python3"
  },
  "language_info": {
   "codemirror_mode": {
    "name": "ipython",
    "version": 3
   },
   "file_extension": ".py",
   "mimetype": "text/x-python",
   "name": "python",
   "nbconvert_exporter": "python",
   "pygments_lexer": "ipython3",
   "version": "3.8.8"
  }
 },
 "nbformat": 4,
 "nbformat_minor": 4
}
